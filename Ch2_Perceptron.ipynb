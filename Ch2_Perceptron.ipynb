{
  "nbformat": 4,
  "nbformat_minor": 0,
  "metadata": {
    "colab": {
      "name": "Ch2_Perceptron.ipynb",
      "provenance": [],
      "collapsed_sections": [],
      "authorship_tag": "ABX9TyMzzL1lGOVHGbTOyVIoxlGb",
      "include_colab_link": true
    },
    "kernelspec": {
      "name": "python3",
      "display_name": "Python 3"
    }
  },
  "cells": [
    {
      "cell_type": "markdown",
      "metadata": {
        "id": "view-in-github",
        "colab_type": "text"
      },
      "source": [
        "<a href=\"https://colab.research.google.com/github/jcjfgnl9205/DeepLearning1/blob/main/Ch2_Perceptron.ipynb\" target=\"_parent\"><img src=\"https://colab.research.google.com/assets/colab-badge.svg\" alt=\"Open In Colab\"/></a>"
      ]
    },
    {
      "cell_type": "markdown",
      "metadata": {
        "id": "Pf5QLuLJ4oRw"
      },
      "source": [
        "**Chapter2. Perceptron**\r\n"
      ]
    },
    {
      "cell_type": "markdown",
      "metadata": {
        "id": "rI4yQW-Kb4Qm"
      },
      "source": [
        "**Perceptronとは**\r\n",
        "  - 複数のデータを入力して、一つのデータを出力するアルゴリズムです。\r\n",
        "\r\n",
        "\r\n",
        "**単純な論理回路**\r\n",
        "  - AND Gate、NAND Gate、OR Gate\r\n"
      ]
    },
    {
      "cell_type": "markdown",
      "metadata": {
        "id": "i2CJpsfaJXVp"
      },
      "source": [
        "**AND GATE**"
      ]
    },
    {
      "cell_type": "code",
      "metadata": {
        "id": "xUO-ZCJj4ce_",
        "colab": {
          "base_uri": "https://localhost:8080/"
        },
        "outputId": "8e077966-5e97-4844-d2f3-016890548632"
      },
      "source": [
        "# 単純な実装\r\n",
        "def AND(x1, x2):\r\n",
        "  w1, w2, theta = 0.5, 0.5, 0.7\r\n",
        "  tmp = x1*w1 + x2*w2\r\n",
        "  \r\n",
        "  if tmp <= theta:\r\n",
        "    return 0\r\n",
        "  elif tmp > theta:\r\n",
        "    return 1\r\n",
        "\r\n",
        "print(AND(0, 0))\r\n",
        "print(AND(1, 0))\r\n",
        "print(AND(0, 1))\r\n",
        "print(AND(1, 1))"
      ],
      "execution_count": null,
      "outputs": [
        {
          "output_type": "stream",
          "text": [
            "0\n",
            "0\n",
            "0\n",
            "1\n"
          ],
          "name": "stdout"
        }
      ]
    },
    {
      "cell_type": "code",
      "metadata": {
        "colab": {
          "base_uri": "https://localhost:8080/"
        },
        "id": "AF2XElF9bjg1",
        "outputId": "eaef221d-e947-438f-df36-131bd932f57a"
      },
      "source": [
        "# 重みとバイアスの導入\r\n",
        "import numpy as np\r\n",
        "\r\n",
        "x = np.array([0, 1])\r\n",
        "w = np.array([0.5, 0.5])\r\n",
        "b = -0.7\r\n",
        "\r\n",
        "print(w * x)\r\n",
        "print(np.sum(w*x))\r\n",
        "print(np.sum(w*x) + b)"
      ],
      "execution_count": null,
      "outputs": [
        {
          "output_type": "stream",
          "text": [
            "[0.  0.5]\n",
            "0.5\n",
            "-0.19999999999999996\n"
          ],
          "name": "stdout"
        }
      ]
    },
    {
      "cell_type": "code",
      "metadata": {
        "colab": {
          "base_uri": "https://localhost:8080/"
        },
        "id": "wZUUvfR9dsiB",
        "outputId": "a1b30ac6-fd61-413f-ad72-0a475399d244"
      },
      "source": [
        "#  重みとバイアスによる実装\r\n",
        "def AND(x1, x2):\r\n",
        "  x = np.array([x1, x2])\r\n",
        "  w = np.array([0.5, 0.5])\r\n",
        "  b = -0.7\r\n",
        "  tmp = np.sum(x*w) + b\r\n",
        "  \r\n",
        "  if tmp <= 0:\r\n",
        "    return 0\r\n",
        "  else:\r\n",
        "    return 1\r\n",
        "\r\n",
        "x1 = 1\r\n",
        "x2 = 0\r\n",
        "print(AND(x1, x2))\r\n"
      ],
      "execution_count": null,
      "outputs": [
        {
          "output_type": "stream",
          "text": [
            "0\n"
          ],
          "name": "stdout"
        }
      ]
    },
    {
      "cell_type": "markdown",
      "metadata": {
        "id": "Lppm3Qq9gByn"
      },
      "source": [
        "**NAND GATE**"
      ]
    },
    {
      "cell_type": "code",
      "metadata": {
        "colab": {
          "base_uri": "https://localhost:8080/"
        },
        "id": "0HqvgpwXeLqQ",
        "outputId": "4043b26a-34c6-416f-cfe4-d1482d107ac0"
      },
      "source": [
        "def NAND(x1, x2):\r\n",
        "  x = np.array([x1, x2])\r\n",
        "  w = np.array([-0.5, -0.5]) # 重みとバイアスだけが AND GATE と違います。\r\n",
        "  b = 0.7\r\n",
        "\r\n",
        "  tmp = np.sum(w*x) + b\r\n",
        "\r\n",
        "  if tmp <= 0:\r\n",
        "    return 0\r\n",
        "  else:\r\n",
        "    return 1\r\n",
        "\r\n",
        "x1 = 1\r\n",
        "x2 = 0\r\n",
        "print(NAND(x1, x2))"
      ],
      "execution_count": null,
      "outputs": [
        {
          "output_type": "stream",
          "text": [
            "1\n"
          ],
          "name": "stdout"
        }
      ]
    },
    {
      "cell_type": "markdown",
      "metadata": {
        "id": "YJWKueJmgiTm"
      },
      "source": [
        "**OR GATE**"
      ]
    },
    {
      "cell_type": "code",
      "metadata": {
        "colab": {
          "base_uri": "https://localhost:8080/"
        },
        "id": "wJoTsYJteZxv",
        "outputId": "7a590d40-20c0-4c71-a7e2-386316c50782"
      },
      "source": [
        "def OR(x1, x2):\r\n",
        "  x = np.array([x1, x2])\r\n",
        "  w = np.array([0.5, 0.5]) # 重みとバイアスだけが AND GATE と違います。\r\n",
        "  b = -0.2\r\n",
        "\r\n",
        "  tmp = np.sum(x*w) + b\r\n",
        "\r\n",
        "  if tmp <= 0:\r\n",
        "    return 0\r\n",
        "  else:\r\n",
        "    return 1\r\n",
        "  \r\n",
        "x1 = 1\r\n",
        "x2 = 0\r\n",
        "print(OR(x1, x2))"
      ],
      "execution_count": null,
      "outputs": [
        {
          "output_type": "stream",
          "text": [
            "1\n"
          ],
          "name": "stdout"
        }
      ]
    },
    {
      "cell_type": "markdown",
      "metadata": {
        "id": "_Yj9CIxehDIX"
      },
      "source": [
        "**Perceptronの限界**\r\n",
        "\r\n",
        "　・ XOR GATEの問題は解決できない。（線形ではできない、非線形でできる）\r\n",
        "\r\n",
        "**多層パーセプトロン**\r\n",
        "\r\n",
        "　・ PerceptronはXOR GATEの表現はできませんでした。\r\n",
        "\r\n",
        "　・ 層を重ねることでXOR GATEを表現できる。\r\n",
        "\r\n",
        "　　　-  既存GATEの組み合わせます\r\n",
        "\r\n",
        "\r\n",
        "\r\n",
        "　　　　![다운로드.png](data:image/png;base64,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)\r\n",
        "\r\n",
        "　　　　* AND, NAND, OR GATEを組み合わせによってXOR GATEを実現できる。\r\n",
        "\r\n",
        "\r\n",
        "　　"
      ]
    },
    {
      "cell_type": "markdown",
      "metadata": {
        "id": "cluf6wiLkc8z"
      },
      "source": [
        "**XOR GATE**"
      ]
    },
    {
      "cell_type": "code",
      "metadata": {
        "colab": {
          "base_uri": "https://localhost:8080/"
        },
        "id": "y6pLPA_ikbvb",
        "outputId": "af15f76c-330c-43fc-dc55-d55047f9fa1f"
      },
      "source": [
        "def XOR(x1, x2):\r\n",
        "  s1 = NAND(x1, x2)\r\n",
        "  s2 = OR(x1, x2)\r\n",
        "  y = AND(s1, s2)\r\n",
        "  return y\r\n",
        "\r\n",
        "print(XOR(0, 0))\r\n",
        "print(XOR(1, 0))\r\n",
        "print(XOR(0, 1))\r\n",
        "print(XOR(1, 1))"
      ],
      "execution_count": null,
      "outputs": [
        {
          "output_type": "stream",
          "text": [
            "0\n",
            "1\n",
            "1\n",
            "0\n"
          ],
          "name": "stdout"
        }
      ]
    },
    {
      "cell_type": "markdown",
      "metadata": {
        "id": "EL6ASfZemBa4"
      },
      "source": [
        "# まとめ\r\n",
        "\r\n",
        "・Perceptronは入出力を備えたアルゴリズムである。ある入力を与えたら、決まった値が出力される。\r\n",
        "\r\n",
        "・Perceptronは、「重み」と「バイアス」をパラメータとして設定する。\r\n",
        "\r\n",
        "・Perceptronを用いれば、ANDやORゲートなどの論理回路を表現できる。\r\n",
        "\r\n",
        "・XORゲートは単層のパーセプトロンでは表現できない。\r\n",
        "\r\n",
        "・2層のパーセプトロンを用いれば、XORゲートを表現することができる。\r\n",
        "\r\n",
        "・単層のパーセプトロンは線形領域だけしか表現できないのに対して、多層のパーセプトロンは非線形領域を表現することができる。\r\n",
        "\r\n",
        "・単層のパーセプトロンは、（論理上）コンピュータを表現できる。"
      ]
    }
  ]
}